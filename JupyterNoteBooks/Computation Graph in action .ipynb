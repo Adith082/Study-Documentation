{
 "cells": [
  {
   "cell_type": "code",
   "execution_count": 2,
   "id": "21896206",
   "metadata": {},
   "outputs": [],
   "source": [
    "#we use logistic regression example\n",
    "import torch"
   ]
  },
  {
   "cell_type": "code",
   "execution_count": 5,
   "id": "7355a54b",
   "metadata": {},
   "outputs": [],
   "source": [
    "import torch.nn.functional as F"
   ]
  },
  {
   "cell_type": "code",
   "execution_count": 11,
   "id": "46fbb8aa",
   "metadata": {},
   "outputs": [],
   "source": [
    "\n",
    "y = torch.tensor([1.0]) #true label\n",
    "x1 = torch.tensor([1.1]) #input feature\n",
    "w1 = torch.tensor([2.2]) #weight parameter\n",
    "b  = torch.tensor([0.0])\n",
    "z = x1*w1 + b  # output\n",
    "activation_function_out_put = torch.sigmoid(z) #output going through activation function aka sigmoid"
   ]
  },
  {
   "cell_type": "code",
   "execution_count": 13,
   "id": "1b4c2e39",
   "metadata": {},
   "outputs": [
    {
     "data": {
      "text/plain": [
       "tensor(0.0852)"
      ]
     },
     "execution_count": 13,
     "metadata": {},
     "output_type": "execute_result"
    }
   ],
   "source": [
    "loss = F.binary_cross_entropy(activation_function_out_put, y)\n",
    "loss"
   ]
  },
  {
   "cell_type": "code",
   "execution_count": null,
   "id": "7706205c",
   "metadata": {},
   "outputs": [],
   "source": [
    "# in the above code, we just calculated the the loss of a forward pass of a single layer neuron or \n",
    "# applied logistic regression forward pass!"
   ]
  },
  {
   "cell_type": "code",
   "execution_count": null,
   "id": "0012efb7",
   "metadata": {},
   "outputs": [],
   "source": []
  }
 ],
 "metadata": {
  "kernelspec": {
   "display_name": "Python 3 (ipykernel)",
   "language": "python",
   "name": "python3"
  },
  "language_info": {
   "codemirror_mode": {
    "name": "ipython",
    "version": 3
   },
   "file_extension": ".py",
   "mimetype": "text/x-python",
   "name": "python",
   "nbconvert_exporter": "python",
   "pygments_lexer": "ipython3",
   "version": "3.9.13"
  }
 },
 "nbformat": 4,
 "nbformat_minor": 5
}
