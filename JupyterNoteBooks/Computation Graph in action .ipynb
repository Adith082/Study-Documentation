{
 "cells": [
  {
   "cell_type": "code",
   "execution_count": 16,
   "id": "5ea5aacd",
   "metadata": {},
   "outputs": [],
   "source": [
    "#we use logistic regression example\n",
    "import torch"
   ]
  },
  {
   "cell_type": "code",
   "execution_count": 17,
   "id": "35566204",
   "metadata": {},
   "outputs": [],
   "source": [
    "import torch.nn.functional as F"
   ]
  },
  {
   "cell_type": "code",
   "execution_count": 23,
   "id": "0fa8f23e",
   "metadata": {},
   "outputs": [],
   "source": [
    "\n",
    "y = torch.tensor([1.0]) #true label\n",
    "x1 = torch.tensor([1.1]) #input feature\n",
    "w1 = torch.tensor([2.2], requires_grad=True) #weight parameter\n",
    "b  = torch.tensor([0.0], requires_grad=True)\n",
    "z = x1*w1 + b  # output\n",
    "activation_function_out_put = torch.sigmoid(z) #output going through activation function aka sigmoid"
   ]
  },
  {
   "cell_type": "code",
   "execution_count": 24,
   "id": "51d2bfc7",
   "metadata": {},
   "outputs": [
    {
     "data": {
      "text/plain": [
       "tensor(0.0852, grad_fn=<BinaryCrossEntropyBackward0>)"
      ]
     },
     "execution_count": 24,
     "metadata": {},
     "output_type": "execute_result"
    }
   ],
   "source": [
    "loss = F.binary_cross_entropy(activation_function_out_put, y)\n",
    "loss"
   ]
  },
  {
   "cell_type": "code",
   "execution_count": 25,
   "id": "d010ddf6",
   "metadata": {},
   "outputs": [],
   "source": [
    "# in the above code, we just calculated the the loss of a forward pass of a single layer neuron or \n",
    "# applied logistic regression forward pass!"
   ]
  },
  {
   "cell_type": "code",
   "execution_count": 26,
   "id": "3bf79779",
   "metadata": {},
   "outputs": [],
   "source": [
    "# compute gradients via autogram\n",
    "from torch.autograd import grad"
   ]
  },
  {
   "cell_type": "code",
   "execution_count": 27,
   "id": "5767fa8f",
   "metadata": {},
   "outputs": [
    {
     "data": {
      "text/plain": [
       "(tensor([-0.0898]),)"
      ]
     },
     "execution_count": 27,
     "metadata": {},
     "output_type": "execute_result"
    }
   ],
   "source": [
    "grad_loss_w1 = grad(loss, w1, retain_graph = True )\n",
    "grad_loss_w1"
   ]
  },
  {
   "cell_type": "code",
   "execution_count": 28,
   "id": "5fd6e701",
   "metadata": {},
   "outputs": [
    {
     "data": {
      "text/plain": [
       "(tensor([-0.0817]),)"
      ]
     },
     "execution_count": 28,
     "metadata": {},
     "output_type": "execute_result"
    }
   ],
   "source": [
    "grad_loss_b = grad(loss, b, retain_graph = True )\n",
    "grad_loss_b"
   ]
  },
  {
   "cell_type": "code",
   "execution_count": 29,
   "id": "3b94ff6c",
   "metadata": {},
   "outputs": [],
   "source": [
    "# in the above 2 cells, we were using manual gradient calculation\n",
    "# we can use backward function to find out gradients for all the leaf nodes of the graph\n",
    "loss.backward()"
   ]
  },
  {
   "cell_type": "code",
   "execution_count": 30,
   "id": "f5b8ba15",
   "metadata": {},
   "outputs": [
    {
     "data": {
      "text/plain": [
       "tensor([-0.0898])"
      ]
     },
     "execution_count": 30,
     "metadata": {},
     "output_type": "execute_result"
    }
   ],
   "source": [
    "w1.grad"
   ]
  },
  {
   "cell_type": "code",
   "execution_count": 31,
   "id": "58df0ba2",
   "metadata": {},
   "outputs": [
    {
     "data": {
      "text/plain": [
       "tensor([-0.0817])"
      ]
     },
     "execution_count": 31,
     "metadata": {},
     "output_type": "execute_result"
    }
   ],
   "source": [
    "b.grad"
   ]
  },
  {
   "cell_type": "code",
   "execution_count": null,
   "id": "4fdaeff3",
   "metadata": {},
   "outputs": [],
   "source": []
  }
 ],
 "metadata": {
  "kernelspec": {
   "display_name": "Python 3 (ipykernel)",
   "language": "python",
   "name": "python3"
  },
  "language_info": {
   "codemirror_mode": {
    "name": "ipython",
    "version": 3
   },
   "file_extension": ".py",
   "mimetype": "text/x-python",
   "name": "python",
   "nbconvert_exporter": "python",
   "pygments_lexer": "ipython3",
   "version": "3.9.13"
  }
 },
 "nbformat": 4,
 "nbformat_minor": 5
}
