{
 "cells": [
  {
   "cell_type": "code",
   "execution_count": 1,
   "id": "83387229",
   "metadata": {},
   "outputs": [],
   "source": [
    "import torch"
   ]
  },
  {
   "cell_type": "code",
   "execution_count": 3,
   "id": "e8e4079e",
   "metadata": {},
   "outputs": [],
   "source": [
    "class NeuralNetwork(torch.nn.Module):\n",
    "    def __init__(self, num_inputs, num_outputs):\n",
    "        super().__init__()\n",
    "        self.layers = torch.nn.Sequential(\n",
    "        \n",
    "            #1st hidden layer\n",
    "            torch.nn.Linear(num_inputs, 30),\n",
    "            torch.nn.ReLU(),\n",
    "            \n",
    "            #2nd hidden layer\n",
    "            torch.nn.Linear(30, 20),\n",
    "            torch.nn.ReLU(),\n",
    "            \n",
    "            #output layer\n",
    "            torch.nn.Linear(20, num_outputs)\n",
    "        )\n",
    "    def forward(self, x):\n",
    "        logits = self.layers(x)\n",
    "        return logits          #outputs of the last layer are called logits\n",
    "model = NeuralNetwork(50, 3)"
   ]
  },
  {
   "cell_type": "code",
   "execution_count": 4,
   "id": "b60b166a",
   "metadata": {},
   "outputs": [
    {
     "name": "stdout",
     "output_type": "stream",
     "text": [
      "NeuralNetwork(\n",
      "  (layers): Sequential(\n",
      "    (0): Linear(in_features=50, out_features=30, bias=True)\n",
      "    (1): ReLU()\n",
      "    (2): Linear(in_features=30, out_features=20, bias=True)\n",
      "    (3): ReLU()\n",
      "    (4): Linear(in_features=20, out_features=3, bias=True)\n",
      "  )\n",
      ")\n"
     ]
    }
   ],
   "source": [
    "print(model)"
   ]
  },
  {
   "cell_type": "code",
   "execution_count": 7,
   "id": "5ed17dee",
   "metadata": {},
   "outputs": [],
   "source": [
    "# calculate the total number of trainable parameters of this model\n",
    "def calculate_trainable_parameters_of_model(model):\n",
    "    total = 0\n",
    "    for parameter in model.parameters():\n",
    "        if parameter.requires_grad:\n",
    "            total += parameter.numel()\n",
    "    return total"
   ]
  },
  {
   "cell_type": "code",
   "execution_count": 8,
   "id": "a354250f",
   "metadata": {},
   "outputs": [
    {
     "data": {
      "text/plain": [
       "2213"
      ]
     },
     "execution_count": 8,
     "metadata": {},
     "output_type": "execute_result"
    }
   ],
   "source": [
    "calculate_trainable_parameters_of_model(model)"
   ]
  },
  {
   "cell_type": "code",
   "execution_count": 10,
   "id": "379de8c3",
   "metadata": {},
   "outputs": [
    {
     "data": {
      "text/plain": [
       "2213"
      ]
     },
     "execution_count": 10,
     "metadata": {},
     "output_type": "execute_result"
    }
   ],
   "source": [
    "# a little shortcut way to calculate trainable parameters of model\n",
    "num_params = sum(p.numel() for p in model.parameters() if p.requires_grad)\n",
    "num_params"
   ]
  },
  {
   "cell_type": "code",
   "execution_count": 14,
   "id": "5bf0f689",
   "metadata": {},
   "outputs": [
    {
     "name": "stdout",
     "output_type": "stream",
     "text": [
      "Parameter containing:\n",
      "tensor([[-0.0941,  0.1408,  0.1124,  ..., -0.0705,  0.0373, -0.0704],\n",
      "        [-0.0141, -0.1298, -0.0927,  ...,  0.0947,  0.1319,  0.0931],\n",
      "        [-0.0039, -0.0501, -0.0733,  ...,  0.0397, -0.0375, -0.0692],\n",
      "        ...,\n",
      "        [-0.0674, -0.1357, -0.1351,  ..., -0.0814,  0.0533,  0.0854],\n",
      "        [-0.0041,  0.0631, -0.0705,  ..., -0.0595, -0.0085, -0.0957],\n",
      "        [-0.0467, -0.0404, -0.0327,  ..., -0.1362, -0.1385,  0.0339]],\n",
      "       requires_grad=True)\n",
      "torch.Size([30, 50])\n"
     ]
    }
   ],
   "source": [
    "#check the first layers weight parameters\n",
    "print(model.layers[0].weight)\n",
    "\n",
    "\n",
    "#check its size too\n",
    "print(model.layers[0].weight.shape)"
   ]
  },
  {
   "cell_type": "code",
   "execution_count": 15,
   "id": "72187e58",
   "metadata": {},
   "outputs": [
    {
     "name": "stdout",
     "output_type": "stream",
     "text": [
      "Parameter containing:\n",
      "tensor([ 0.1317,  0.0010, -0.0507,  0.0976, -0.1154,  0.1198, -0.1328,  0.1220,\n",
      "         0.0280, -0.0853, -0.0787,  0.1205, -0.0879,  0.1207, -0.0204,  0.0824,\n",
      "        -0.0761,  0.1348,  0.0253, -0.0654,  0.0894,  0.0321,  0.0490,  0.0922,\n",
      "        -0.0292,  0.1345,  0.0581, -0.1262,  0.0063,  0.0090],\n",
      "       requires_grad=True)\n",
      "torch.Size([30])\n"
     ]
    }
   ],
   "source": [
    "# check the bias of first layer and its size\n",
    "print(model.layers[0].bias)\n",
    "\n",
    "print(model.layers[0].bias.shape)"
   ]
  },
  {
   "cell_type": "code",
   "execution_count": null,
   "id": "9baa7eb0",
   "metadata": {},
   "outputs": [],
   "source": []
  }
 ],
 "metadata": {
  "kernelspec": {
   "display_name": "Python 3 (ipykernel)",
   "language": "python",
   "name": "python3"
  },
  "language_info": {
   "codemirror_mode": {
    "name": "ipython",
    "version": 3
   },
   "file_extension": ".py",
   "mimetype": "text/x-python",
   "name": "python",
   "nbconvert_exporter": "python",
   "pygments_lexer": "ipython3",
   "version": "3.9.13"
  }
 },
 "nbformat": 4,
 "nbformat_minor": 5
}
