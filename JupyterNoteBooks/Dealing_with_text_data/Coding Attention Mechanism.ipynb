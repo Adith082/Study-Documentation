{
 "cells": [
  {
   "cell_type": "code",
   "execution_count": 5,
   "id": "6308bf3f",
   "metadata": {},
   "outputs": [],
   "source": [
    "import torch"
   ]
  },
  {
   "cell_type": "code",
   "execution_count": 6,
   "id": "d948fecf",
   "metadata": {},
   "outputs": [],
   "source": [
    "# we are going to firs implement simplified self-attention mechanism and then step by step we will build the actual self\n",
    "# attention mechanism\n",
    "inputs = torch.tensor(\n",
    "    [[0.43, 0.15, 0.89],  # your    (x^1)\n",
    "    [0.55, 0.87, 0.66],   # journey (x^2)\n",
    "    [0.57, 0.85, 0.64],   # starts  (x^3)\n",
    "    [0.22, 0.58, 0.33],   # with    (x^4)\n",
    "    [0.77, 0.25, 0.10],   # one     (x^5)\n",
    "    [0.05, 0.80, 0.55]]   # step    (x^6)\n",
    ")"
   ]
  },
  {
   "cell_type": "code",
   "execution_count": 7,
   "id": "8a701631",
   "metadata": {},
   "outputs": [],
   "source": [
    "# how the attention weights for each token of inputs will be calculated for finding context vector for \"journey\"?\n",
    "# take query as embedding of \"journey\"\n",
    "# dot product its embedding with each token of the inputs and thus you will find attention score/weight for respective query\n",
    "query = inputs[1] # embedding of \"journey\""
   ]
  },
  {
   "cell_type": "code",
   "execution_count": 8,
   "id": "9b068e84",
   "metadata": {},
   "outputs": [
    {
     "data": {
      "text/plain": [
       "tensor([0.5500, 0.8700, 0.6600])"
      ]
     },
     "execution_count": 8,
     "metadata": {},
     "output_type": "execute_result"
    }
   ],
   "source": [
    "query"
   ]
  },
  {
   "cell_type": "code",
   "execution_count": 9,
   "id": "72af6138",
   "metadata": {},
   "outputs": [],
   "source": [
    "attention_scores = torch.empty(inputs.shape[0])"
   ]
  },
  {
   "cell_type": "code",
   "execution_count": 10,
   "id": "4088bb72",
   "metadata": {},
   "outputs": [],
   "source": [
    "for index, element in enumerate(inputs):\n",
    "    attention_scores[index] = torch.dot(query, element) # this dot opearation is done by summing the elementwise multiplication of 2 vectors"
   ]
  },
  {
   "cell_type": "code",
   "execution_count": 11,
   "id": "c9094905",
   "metadata": {},
   "outputs": [
    {
     "data": {
      "text/plain": [
       "tensor([0.9544, 1.4950, 1.4754, 0.8434, 0.7070, 1.0865])"
      ]
     },
     "execution_count": 11,
     "metadata": {},
     "output_type": "execute_result"
    }
   ],
   "source": [
    "attention_scores "
   ]
  },
  {
   "cell_type": "code",
   "execution_count": 12,
   "id": "91e1eeb5",
   "metadata": {},
   "outputs": [],
   "source": [
    "# we have to normalize the attention_scores here because \n",
    "# we want the training to have stability and we want interpretation\n",
    "attention_weights = attention_scores/attention_scores.sum() # normalizing each value by dividing sum of initial values"
   ]
  },
  {
   "cell_type": "code",
   "execution_count": 13,
   "id": "024ba92e",
   "metadata": {},
   "outputs": [],
   "source": [
    "# normalized_attention_scores is equal to attention_weights"
   ]
  },
  {
   "cell_type": "code",
   "execution_count": 14,
   "id": "238f54a8",
   "metadata": {},
   "outputs": [
    {
     "data": {
      "text/plain": [
       "tensor([0.1455, 0.2278, 0.2249, 0.1285, 0.1077, 0.1656])"
      ]
     },
     "execution_count": 14,
     "metadata": {},
     "output_type": "execute_result"
    }
   ],
   "source": [
    "attention_weights"
   ]
  },
  {
   "cell_type": "code",
   "execution_count": 15,
   "id": "9ec2f585",
   "metadata": {},
   "outputs": [
    {
     "name": "stdout",
     "output_type": "stream",
     "text": [
      "tensor(1.0000)\n"
     ]
    }
   ],
   "source": [
    "print(attention_weights.sum())"
   ]
  },
  {
   "cell_type": "code",
   "execution_count": 16,
   "id": "2f6b1908",
   "metadata": {},
   "outputs": [],
   "source": [
    "#higher the dot product, the greater the similarity between two vectors"
   ]
  },
  {
   "cell_type": "code",
   "execution_count": 17,
   "id": "7b18e799",
   "metadata": {},
   "outputs": [],
   "source": [
    "#but it is prefered to use softmax\n",
    "def softmax_naive(x):\n",
    "    return torch.exp(x) / torch.exp(x).sum(dim=0)\n"
   ]
  },
  {
   "cell_type": "code",
   "execution_count": 18,
   "id": "c7e64976",
   "metadata": {},
   "outputs": [],
   "source": [
    "attention_weights = softmax_naive(attention_scores)"
   ]
  },
  {
   "cell_type": "code",
   "execution_count": 19,
   "id": "39f8d40b",
   "metadata": {},
   "outputs": [
    {
     "data": {
      "text/plain": [
       "tensor([0.1385, 0.2379, 0.2333, 0.1240, 0.1082, 0.1581])"
      ]
     },
     "execution_count": 19,
     "metadata": {},
     "output_type": "execute_result"
    }
   ],
   "source": [
    "attention_weights"
   ]
  },
  {
   "cell_type": "code",
   "execution_count": 20,
   "id": "baf1ea88",
   "metadata": {},
   "outputs": [
    {
     "name": "stdout",
     "output_type": "stream",
     "text": [
      "tensor(1.)\n"
     ]
    }
   ],
   "source": [
    "print(attention_weights.sum())"
   ]
  },
  {
   "cell_type": "code",
   "execution_count": 22,
   "id": "26448eb3",
   "metadata": {},
   "outputs": [],
   "source": [
    "# but still due to some over flow under flow issue, it is best to use softmax of pytorch!\n",
    "attention_weights = torch.softmax(attention_scores, dim=0)"
   ]
  },
  {
   "cell_type": "code",
   "execution_count": 23,
   "id": "e4436984",
   "metadata": {},
   "outputs": [
    {
     "name": "stdout",
     "output_type": "stream",
     "text": [
      "tensor([0.1385, 0.2379, 0.2333, 0.1240, 0.1082, 0.1581])\n"
     ]
    }
   ],
   "source": [
    "print(attention_weights)"
   ]
  },
  {
   "cell_type": "code",
   "execution_count": 24,
   "id": "18bde616",
   "metadata": {},
   "outputs": [],
   "source": [
    "# calculate the context vector for inputs second token\n",
    "query_2 = inputs[1]\n"
   ]
  },
  {
   "cell_type": "code",
   "execution_count": 29,
   "id": "46c521fb",
   "metadata": {},
   "outputs": [
    {
     "data": {
      "text/plain": [
       "tensor([0.5500, 0.8700, 0.6600])"
      ]
     },
     "execution_count": 29,
     "metadata": {},
     "output_type": "execute_result"
    }
   ],
   "source": [
    "query_2"
   ]
  },
  {
   "cell_type": "code",
   "execution_count": 41,
   "id": "4d322db4",
   "metadata": {},
   "outputs": [],
   "source": [
    "context_vector_z2 = torch.zeros(query_2.shape)"
   ]
  },
  {
   "cell_type": "code",
   "execution_count": 42,
   "id": "a991253d",
   "metadata": {},
   "outputs": [
    {
     "data": {
      "text/plain": [
       "tensor([0., 0., 0.])"
      ]
     },
     "execution_count": 42,
     "metadata": {},
     "output_type": "execute_result"
    }
   ],
   "source": [
    "context_vector_z2"
   ]
  },
  {
   "cell_type": "code",
   "execution_count": 43,
   "id": "ea52508c",
   "metadata": {},
   "outputs": [],
   "source": [
    "for index, input_embedding in enumerate(inputs):\n",
    "    context_vector_z2 += attention_weights[index] * input_embedding"
   ]
  },
  {
   "cell_type": "code",
   "execution_count": 45,
   "id": "d5adc9ef",
   "metadata": {},
   "outputs": [
    {
     "name": "stdout",
     "output_type": "stream",
     "text": [
      "context vector of the 2nd token of inputs called 'journey' is \n",
      "tensor([0.4419, 0.6515, 0.5683])\n"
     ]
    }
   ],
   "source": [
    "print(\"context vector of the 2nd token of inputs called 'journey' is \")\n",
    "print(context_vector_z2)"
   ]
  },
  {
   "cell_type": "code",
   "execution_count": 53,
   "id": "d871e22a",
   "metadata": {},
   "outputs": [
    {
     "data": {
      "text/plain": [
       "6"
      ]
     },
     "execution_count": 53,
     "metadata": {},
     "output_type": "execute_result"
    }
   ],
   "source": [
    "inputs.shape[0]"
   ]
  },
  {
   "cell_type": "code",
   "execution_count": 62,
   "id": "07112416",
   "metadata": {},
   "outputs": [],
   "source": [
    "# NOW lets generalize and create context vectors for all tokens of the input simultaneosly\n",
    "attention_score_for_all_tokens = torch.zeros(inputs.shape[0], inputs.shape[0])"
   ]
  },
  {
   "cell_type": "code",
   "execution_count": 63,
   "id": "5b6923f2",
   "metadata": {},
   "outputs": [
    {
     "data": {
      "text/plain": [
       "tensor([[0., 0., 0., 0., 0., 0.],\n",
       "        [0., 0., 0., 0., 0., 0.],\n",
       "        [0., 0., 0., 0., 0., 0.],\n",
       "        [0., 0., 0., 0., 0., 0.],\n",
       "        [0., 0., 0., 0., 0., 0.],\n",
       "        [0., 0., 0., 0., 0., 0.]])"
      ]
     },
     "execution_count": 63,
     "metadata": {},
     "output_type": "execute_result"
    }
   ],
   "source": [
    "attention_score_for_all_tokens"
   ]
  },
  {
   "cell_type": "code",
   "execution_count": 64,
   "id": "527c260b",
   "metadata": {},
   "outputs": [],
   "source": [
    "for i in range(attention_score_for_all_tokens.size(0)):        # loop over rows\n",
    "    for j in range(attention_score_for_all_tokens.size(1)):    # loop over columns\n",
    "        attention_score_for_all_tokens[i][j] = torch.dot(inputs[i], inputs[j])"
   ]
  },
  {
   "cell_type": "code",
   "execution_count": 65,
   "id": "9b47c868",
   "metadata": {},
   "outputs": [
    {
     "data": {
      "text/plain": [
       "tensor([[0.9995, 0.9544, 0.9422, 0.4753, 0.4576, 0.6310],\n",
       "        [0.9544, 1.4950, 1.4754, 0.8434, 0.7070, 1.0865],\n",
       "        [0.9422, 1.4754, 1.4570, 0.8296, 0.7154, 1.0605],\n",
       "        [0.4753, 0.8434, 0.8296, 0.4937, 0.3474, 0.6565],\n",
       "        [0.4576, 0.7070, 0.7154, 0.3474, 0.6654, 0.2935],\n",
       "        [0.6310, 1.0865, 1.0605, 0.6565, 0.2935, 0.9450]])"
      ]
     },
     "execution_count": 65,
     "metadata": {},
     "output_type": "execute_result"
    }
   ],
   "source": [
    "attention_score_for_all_tokens"
   ]
  },
  {
   "cell_type": "code",
   "execution_count": 67,
   "id": "2d48967f",
   "metadata": {},
   "outputs": [],
   "source": [
    "# we did use nested for loop there. but we could efficiently do the same thing using matrix multiplication like below\n",
    "attention_score_for_all_tokens = inputs @ inputs.T # here .T meaning the transposed version of input"
   ]
  },
  {
   "cell_type": "code",
   "execution_count": 68,
   "id": "f87d508a",
   "metadata": {},
   "outputs": [
    {
     "data": {
      "text/plain": [
       "tensor([[0.9995, 0.9544, 0.9422, 0.4753, 0.4576, 0.6310],\n",
       "        [0.9544, 1.4950, 1.4754, 0.8434, 0.7070, 1.0865],\n",
       "        [0.9422, 1.4754, 1.4570, 0.8296, 0.7154, 1.0605],\n",
       "        [0.4753, 0.8434, 0.8296, 0.4937, 0.3474, 0.6565],\n",
       "        [0.4576, 0.7070, 0.7154, 0.3474, 0.6654, 0.2935],\n",
       "        [0.6310, 1.0865, 1.0605, 0.6565, 0.2935, 0.9450]])"
      ]
     },
     "execution_count": 68,
     "metadata": {},
     "output_type": "execute_result"
    }
   ],
   "source": [
    "attention_score_for_all_tokens"
   ]
  },
  {
   "cell_type": "code",
   "execution_count": 71,
   "id": "b1b1f861",
   "metadata": {},
   "outputs": [],
   "source": [
    "attention_weight_for_all_tokens = torch.softmax(attention_score_for_all_tokens, dim=-1)"
   ]
  },
  {
   "cell_type": "code",
   "execution_count": 72,
   "id": "fcec36ac",
   "metadata": {},
   "outputs": [
    {
     "data": {
      "text/plain": [
       "tensor([[0.2098, 0.2006, 0.1981, 0.1242, 0.1220, 0.1452],\n",
       "        [0.1385, 0.2379, 0.2333, 0.1240, 0.1082, 0.1581],\n",
       "        [0.1390, 0.2369, 0.2326, 0.1242, 0.1108, 0.1565],\n",
       "        [0.1435, 0.2074, 0.2046, 0.1462, 0.1263, 0.1720],\n",
       "        [0.1526, 0.1958, 0.1975, 0.1367, 0.1879, 0.1295],\n",
       "        [0.1385, 0.2184, 0.2128, 0.1420, 0.0988, 0.1896]])"
      ]
     },
     "execution_count": 72,
     "metadata": {},
     "output_type": "execute_result"
    }
   ],
   "source": [
    "attention_weight_for_all_tokens"
   ]
  },
  {
   "cell_type": "code",
   "execution_count": 73,
   "id": "024191ef",
   "metadata": {},
   "outputs": [],
   "source": [
    "# calculate context vector\n",
    "context_vector = attention_weight_for_all_tokens @ inputs"
   ]
  },
  {
   "cell_type": "code",
   "execution_count": 75,
   "id": "502d2594",
   "metadata": {},
   "outputs": [
    {
     "data": {
      "text/plain": [
       "tensor([[0.4421, 0.5931, 0.5790],\n",
       "        [0.4419, 0.6515, 0.5683],\n",
       "        [0.4431, 0.6496, 0.5671],\n",
       "        [0.4304, 0.6298, 0.5510],\n",
       "        [0.4671, 0.5910, 0.5266],\n",
       "        [0.4177, 0.6503, 0.5645]])"
      ]
     },
     "execution_count": 75,
     "metadata": {},
     "output_type": "execute_result"
    }
   ],
   "source": [
    "context_vector\n",
    "#finally we have created our simple self attention mechanism."
   ]
  },
  {
   "cell_type": "code",
   "execution_count": null,
   "id": "5b6d21d3",
   "metadata": {},
   "outputs": [],
   "source": []
  }
 ],
 "metadata": {
  "kernelspec": {
   "display_name": "Python 3 (ipykernel)",
   "language": "python",
   "name": "python3"
  },
  "language_info": {
   "codemirror_mode": {
    "name": "ipython",
    "version": 3
   },
   "file_extension": ".py",
   "mimetype": "text/x-python",
   "name": "python",
   "nbconvert_exporter": "python",
   "pygments_lexer": "ipython3",
   "version": "3.9.13"
  }
 },
 "nbformat": 4,
 "nbformat_minor": 5
}
