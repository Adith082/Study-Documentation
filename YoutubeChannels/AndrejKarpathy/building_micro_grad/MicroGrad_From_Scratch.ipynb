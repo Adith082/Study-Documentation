{
 "cells": [
  {
   "cell_type": "code",
   "execution_count": 1,
   "id": "352ebaa1",
   "metadata": {},
   "outputs": [],
   "source": [
    "import math\n",
    "import numpy as np\n",
    "import matplotlib.pyplot as plt\n",
    "%matplotlib inline"
   ]
  },
  {
   "cell_type": "code",
   "execution_count": 2,
   "id": "68a2847f",
   "metadata": {},
   "outputs": [],
   "source": [
    "def f(x):\n",
    "    return 3*x**2 - 4*x + 5"
   ]
  },
  {
   "cell_type": "code",
   "execution_count": 3,
   "id": "7804338f",
   "metadata": {},
   "outputs": [
    {
     "data": {
      "text/plain": [
       "20.0"
      ]
     },
     "execution_count": 3,
     "metadata": {},
     "output_type": "execute_result"
    }
   ],
   "source": [
    "f(3.0)"
   ]
  },
  {
   "cell_type": "code",
   "execution_count": 4,
   "id": "35985199",
   "metadata": {},
   "outputs": [
    {
     "data": {
      "text/plain": [
       "array([-5.  , -4.75, -4.5 , -4.25, -4.  , -3.75, -3.5 , -3.25, -3.  ,\n",
       "       -2.75, -2.5 , -2.25, -2.  , -1.75, -1.5 , -1.25, -1.  , -0.75,\n",
       "       -0.5 , -0.25,  0.  ,  0.25,  0.5 ,  0.75,  1.  ,  1.25,  1.5 ,\n",
       "        1.75,  2.  ,  2.25,  2.5 ,  2.75,  3.  ,  3.25,  3.5 ,  3.75,\n",
       "        4.  ,  4.25,  4.5 ,  4.75])"
      ]
     },
     "execution_count": 4,
     "metadata": {},
     "output_type": "execute_result"
    }
   ],
   "source": [
    "xs = np.arange(-5, 5, 0.25)\n",
    "xs"
   ]
  },
  {
   "cell_type": "code",
   "execution_count": 5,
   "id": "76b7e181",
   "metadata": {},
   "outputs": [
    {
     "data": {
      "text/plain": [
       "array([100.    ,  91.6875,  83.75  ,  76.1875,  69.    ,  62.1875,\n",
       "        55.75  ,  49.6875,  44.    ,  38.6875,  33.75  ,  29.1875,\n",
       "        25.    ,  21.1875,  17.75  ,  14.6875,  12.    ,   9.6875,\n",
       "         7.75  ,   6.1875,   5.    ,   4.1875,   3.75  ,   3.6875,\n",
       "         4.    ,   4.6875,   5.75  ,   7.1875,   9.    ,  11.1875,\n",
       "        13.75  ,  16.6875,  20.    ,  23.6875,  27.75  ,  32.1875,\n",
       "        37.    ,  42.1875,  47.75  ,  53.6875])"
      ]
     },
     "execution_count": 5,
     "metadata": {},
     "output_type": "execute_result"
    }
   ],
   "source": [
    "ys = f(xs)\n",
    "ys"
   ]
  },
  {
   "cell_type": "code",
   "execution_count": 6,
   "id": "fcedae84",
   "metadata": {},
   "outputs": [
    {
     "data": {
      "text/plain": [
       "[<matplotlib.lines.Line2D at 0x28346759a30>]"
      ]
     },
     "execution_count": 6,
     "metadata": {},
     "output_type": "execute_result"
    },
    {
     "data": {
      "image/png": "[encoded data removed]",
      "text/plain": [
       "<Figure size 640x480 with 1 Axes>"
      ]
     },
     "metadata": {},
     "output_type": "display_data"
    }
   ],
   "source": [
    "plt.plot(xs, ys)  #ploting the created parabolic equation"
   ]
  },
  {
   "cell_type": "code",
   "execution_count": 14,
   "id": "e5997d17",
   "metadata": {},
   "outputs": [],
   "source": [
    "class Value:\n",
    "    \n",
    "    def __init__(self, data, _children=(), _op='', label=''):\n",
    "        self.data = data\n",
    "        self._prev = set(_children)\n",
    "        self._op = _op\n",
    "        self.label = label\n",
    "    \n",
    "    def __repr__(self):\n",
    "        return f\"Value(data={self.data})\"\n",
    "    \n",
    "    def __add__(self, other):\n",
    "        return Value(self.data + other.data, (self, other), '+')\n",
    "    \n",
    "    def __mul__(self, other):\n",
    "        return Value(self.data * other.data, (self, other), '*')\n",
    "    \n",
    "a = Value(2.0, label='a')\n",
    "b = Value(-3.0, label='b')\n",
    "c = Value(10.0, label='c')\n",
    "e = a * b; e.label = 'e'\n",
    "d = e  + c; d.label = 'd'\n",
    "f = Value(-2.0, label='f')\n",
    "L = d * f; L.label = 'L'"
   ]
  },
  {
   "cell_type": "code",
   "execution_count": 15,
   "id": "c2afca34",
   "metadata": {},
   "outputs": [
    {
     "data": {
      "image/svg+xml": [
       "<?xml version=\"1.0\" encoding=\"UTF-8\" standalone=\"no\"?>\n",
       "<!DOCTYPE svg PUBLIC \"-//W3C//DTD SVG 1.1//EN\"\n",
       " \"http://www.w3.org/Graphics/SVG/1.1/DTD/svg11.dtd\">\n",
       "<!-- Generated by graphviz version 12.2.1 (20241206.2353)\n",
       " -->\n",
       "<!-- Pages: 1 -->\n",
       "<svg width=\"815pt\" height=\"128pt\"\n",
       " viewBox=\"0.00 0.00 814.75 128.00\" xmlns=\"http://www.w3.org/2000/svg\" xmlns:xlink=\"http://www.w3.org/1999/xlink\">\n",
       "<g id=\"graph0\" class=\"graph\" transform=\"scale(1 1) rotate(0) translate(4 124)\">\n",
       "<polygon fill=\"white\" stroke=\"none\" points=\"-4,4 -4,-124 810.75,-124 810.75,4 -4,4\"/>\n",
       "<!-- 2762846084688 -->\n",
       "<g id=\"node1\" class=\"node\">\n",
       "<title>2762846084688</title>\n",
       "<polygon fill=\"none\" stroke=\"black\" points=\"467.5,-82.5 467.5,-118.5 572.25,-118.5 572.25,-82.5 467.5,-82.5\"/>\n",
       "<text text-anchor=\"middle\" x=\"477.75\" y=\"-95.7\" font-family=\"Times New Roman,serif\" font-size=\"14.00\">f</text>\n",
       "<polyline fill=\"none\" stroke=\"black\" points=\"488,-83 488,-118.5\"/>\n",
       "<text text-anchor=\"middle\" x=\"530.12\" y=\"-95.7\" font-family=\"Times New Roman,serif\" font-size=\"14.00\">data &#45;2.0000</text>\n",
       "</g>\n",
       "<!-- 2762846084544* -->\n",
       "<g id=\"node10\" class=\"node\">\n",
       "<title>2762846084544*</title>\n",
       "<ellipse fill=\"none\" stroke=\"black\" cx=\"635.25\" cy=\"-72.5\" rx=\"27\" ry=\"18\"/>\n",
       "<text text-anchor=\"middle\" x=\"635.25\" y=\"-67.45\" font-family=\"Times New Roman,serif\" font-size=\"14.00\">*</text>\n",
       "</g>\n",
       "<!-- 2762846084688&#45;&gt;2762846084544* -->\n",
       "<g id=\"edge9\" class=\"edge\">\n",
       "<title>2762846084688&#45;&gt;2762846084544*</title>\n",
       "<path fill=\"none\" stroke=\"black\" d=\"M572.59,-87.73C581.32,-85.57 590.21,-83.38 598.42,-81.35\"/>\n",
       "<polygon fill=\"black\" stroke=\"black\" points=\"599.16,-84.77 608.02,-78.98 597.48,-77.98 599.16,-84.77\"/>\n",
       "</g>\n",
       "<!-- 2762881815168 -->\n",
       "<g id=\"node2\" class=\"node\">\n",
       "<title>2762881815168</title>\n",
       "<polygon fill=\"none\" stroke=\"black\" points=\"2.62,-83.5 2.62,-119.5 104.38,-119.5 104.38,-83.5 2.62,-83.5\"/>\n",
       "<text text-anchor=\"middle\" x=\"13.62\" y=\"-96.7\" font-family=\"Times New Roman,serif\" font-size=\"14.00\">a</text>\n",
       "<polyline fill=\"none\" stroke=\"black\" points=\"24.62,-84 24.62,-119.5\"/>\n",
       "<text text-anchor=\"middle\" x=\"64.5\" y=\"-96.7\" font-family=\"Times New Roman,serif\" font-size=\"14.00\">data 2.0000</text>\n",
       "</g>\n",
       "<!-- 2762845338352* -->\n",
       "<g id=\"node6\" class=\"node\">\n",
       "<title>2762845338352*</title>\n",
       "<ellipse fill=\"none\" stroke=\"black\" cx=\"170\" cy=\"-73.5\" rx=\"27\" ry=\"18\"/>\n",
       "<text text-anchor=\"middle\" x=\"170\" y=\"-68.45\" font-family=\"Times New Roman,serif\" font-size=\"14.00\">*</text>\n",
       "</g>\n",
       "<!-- 2762881815168&#45;&gt;2762845338352* -->\n",
       "<g id=\"edge8\" class=\"edge\">\n",
       "<title>2762881815168&#45;&gt;2762845338352*</title>\n",
       "<path fill=\"none\" stroke=\"black\" d=\"M104.72,-89.22C114.35,-86.86 124.26,-84.44 133.32,-82.23\"/>\n",
       "<polygon fill=\"black\" stroke=\"black\" points=\"133.9,-85.69 142.78,-79.91 132.24,-78.89 133.9,-85.69\"/>\n",
       "</g>\n",
       "<!-- 2762846084784 -->\n",
       "<g id=\"node3\" class=\"node\">\n",
       "<title>2762846084784</title>\n",
       "<polygon fill=\"none\" stroke=\"black\" points=\"468.62,-27.5 468.62,-63.5 571.12,-63.5 571.12,-27.5 468.62,-27.5\"/>\n",
       "<text text-anchor=\"middle\" x=\"480\" y=\"-40.7\" font-family=\"Times New Roman,serif\" font-size=\"14.00\">d</text>\n",
       "<polyline fill=\"none\" stroke=\"black\" points=\"491.38,-28 491.38,-63.5\"/>\n",
       "<text text-anchor=\"middle\" x=\"531.25\" y=\"-40.7\" font-family=\"Times New Roman,serif\" font-size=\"14.00\">data 4.0000</text>\n",
       "</g>\n",
       "<!-- 2762846084784&#45;&gt;2762846084544* -->\n",
       "<g id=\"edge5\" class=\"edge\">\n",
       "<title>2762846084784&#45;&gt;2762846084544*</title>\n",
       "<path fill=\"none\" stroke=\"black\" d=\"M571.59,-57.58C580.59,-59.72 589.79,-61.91 598.28,-63.93\"/>\n",
       "<polygon fill=\"black\" stroke=\"black\" points=\"597.3,-67.3 607.84,-66.21 598.93,-60.49 597.3,-67.3\"/>\n",
       "</g>\n",
       "<!-- 2762846084784+ -->\n",
       "<g id=\"node4\" class=\"node\">\n",
       "<title>2762846084784+</title>\n",
       "<ellipse fill=\"none\" stroke=\"black\" cx=\"404.5\" cy=\"-45.5\" rx=\"27\" ry=\"18\"/>\n",
       "<text text-anchor=\"middle\" x=\"404.5\" y=\"-40.45\" font-family=\"Times New Roman,serif\" font-size=\"14.00\">+</text>\n",
       "</g>\n",
       "<!-- 2762846084784+&#45;&gt;2762846084784 -->\n",
       "<g id=\"edge1\" class=\"edge\">\n",
       "<title>2762846084784+&#45;&gt;2762846084784</title>\n",
       "<path fill=\"none\" stroke=\"black\" d=\"M431.8,-45.5C439.43,-45.5 448.11,-45.5 456.96,-45.5\"/>\n",
       "<polygon fill=\"black\" stroke=\"black\" points=\"456.68,-49 466.68,-45.5 456.68,-42 456.68,-49\"/>\n",
       "</g>\n",
       "<!-- 2762845338352 -->\n",
       "<g id=\"node5\" class=\"node\">\n",
       "<title>2762845338352</title>\n",
       "<polygon fill=\"none\" stroke=\"black\" points=\"234.12,-55.5 234.12,-91.5 340.38,-91.5 340.38,-55.5 234.12,-55.5\"/>\n",
       "<text text-anchor=\"middle\" x=\"245.12\" y=\"-68.7\" font-family=\"Times New Roman,serif\" font-size=\"14.00\">e</text>\n",
       "<polyline fill=\"none\" stroke=\"black\" points=\"256.12,-56 256.12,-91.5\"/>\n",
       "<text text-anchor=\"middle\" x=\"298.25\" y=\"-68.7\" font-family=\"Times New Roman,serif\" font-size=\"14.00\">data &#45;6.0000</text>\n",
       "</g>\n",
       "<!-- 2762845338352&#45;&gt;2762846084784+ -->\n",
       "<g id=\"edge7\" class=\"edge\">\n",
       "<title>2762845338352&#45;&gt;2762846084784+</title>\n",
       "<path fill=\"none\" stroke=\"black\" d=\"M340.82,-60.73C349.88,-58.53 359.11,-56.29 367.6,-54.22\"/>\n",
       "<polygon fill=\"black\" stroke=\"black\" points=\"368.27,-57.66 377.16,-51.9 366.62,-50.86 368.27,-57.66\"/>\n",
       "</g>\n",
       "<!-- 2762845338352*&#45;&gt;2762845338352 -->\n",
       "<g id=\"edge2\" class=\"edge\">\n",
       "<title>2762845338352*&#45;&gt;2762845338352</title>\n",
       "<path fill=\"none\" stroke=\"black\" d=\"M197.44,-73.5C205.1,-73.5 213.82,-73.5 222.73,-73.5\"/>\n",
       "<polygon fill=\"black\" stroke=\"black\" points=\"222.53,-77 232.53,-73.5 222.53,-70 222.53,-77\"/>\n",
       "</g>\n",
       "<!-- 2762881816320 -->\n",
       "<g id=\"node7\" class=\"node\">\n",
       "<title>2762881816320</title>\n",
       "<polygon fill=\"none\" stroke=\"black\" points=\"233,-0.5 233,-36.5 341.5,-36.5 341.5,-0.5 233,-0.5\"/>\n",
       "<text text-anchor=\"middle\" x=\"244\" y=\"-13.7\" font-family=\"Times New Roman,serif\" font-size=\"14.00\">c</text>\n",
       "<polyline fill=\"none\" stroke=\"black\" points=\"255,-1 255,-36.5\"/>\n",
       "<text text-anchor=\"middle\" x=\"298.25\" y=\"-13.7\" font-family=\"Times New Roman,serif\" font-size=\"14.00\">data 10.0000</text>\n",
       "</g>\n",
       "<!-- 2762881816320&#45;&gt;2762846084784+ -->\n",
       "<g id=\"edge4\" class=\"edge\">\n",
       "<title>2762881816320&#45;&gt;2762846084784+</title>\n",
       "<path fill=\"none\" stroke=\"black\" d=\"M341.83,-31.05C350.54,-33.09 359.37,-35.16 367.53,-37.07\"/>\n",
       "<polygon fill=\"black\" stroke=\"black\" points=\"366.52,-40.43 377.05,-39.3 368.11,-33.61 366.52,-40.43\"/>\n",
       "</g>\n",
       "<!-- 2762881817328 -->\n",
       "<g id=\"node8\" class=\"node\">\n",
       "<title>2762881817328</title>\n",
       "<polygon fill=\"none\" stroke=\"black\" points=\"0,-28.5 0,-64.5 107,-64.5 107,-28.5 0,-28.5\"/>\n",
       "<text text-anchor=\"middle\" x=\"11.38\" y=\"-41.7\" font-family=\"Times New Roman,serif\" font-size=\"14.00\">b</text>\n",
       "<polyline fill=\"none\" stroke=\"black\" points=\"22.75,-29 22.75,-64.5\"/>\n",
       "<text text-anchor=\"middle\" x=\"64.88\" y=\"-41.7\" font-family=\"Times New Roman,serif\" font-size=\"14.00\">data &#45;3.0000</text>\n",
       "</g>\n",
       "<!-- 2762881817328&#45;&gt;2762845338352* -->\n",
       "<g id=\"edge6\" class=\"edge\">\n",
       "<title>2762881817328&#45;&gt;2762845338352*</title>\n",
       "<path fill=\"none\" stroke=\"black\" d=\"M107.39,-58.97C116.08,-61.02 124.89,-63.1 133.04,-65.02\"/>\n",
       "<polygon fill=\"black\" stroke=\"black\" points=\"132.01,-68.37 142.55,-67.26 133.62,-61.56 132.01,-68.37\"/>\n",
       "</g>\n",
       "<!-- 2762846084544 -->\n",
       "<g id=\"node9\" class=\"node\">\n",
       "<title>2762846084544</title>\n",
       "<polygon fill=\"none\" stroke=\"black\" points=\"698.25,-54.5 698.25,-90.5 806.75,-90.5 806.75,-54.5 698.25,-54.5\"/>\n",
       "<text text-anchor=\"middle\" x=\"710.38\" y=\"-67.7\" font-family=\"Times New Roman,serif\" font-size=\"14.00\">L</text>\n",
       "<polyline fill=\"none\" stroke=\"black\" points=\"722.5,-55 722.5,-90.5\"/>\n",
       "<text text-anchor=\"middle\" x=\"764.62\" y=\"-67.7\" font-family=\"Times New Roman,serif\" font-size=\"14.00\">data &#45;8.0000</text>\n",
       "</g>\n",
       "<!-- 2762846084544*&#45;&gt;2762846084544 -->\n",
       "<g id=\"edge3\" class=\"edge\">\n",
       "<title>2762846084544*&#45;&gt;2762846084544</title>\n",
       "<path fill=\"none\" stroke=\"black\" d=\"M662.69,-72.5C669.91,-72.5 678.06,-72.5 686.43,-72.5\"/>\n",
       "<polygon fill=\"black\" stroke=\"black\" points=\"686.39,-76 696.39,-72.5 686.39,-69 686.39,-76\"/>\n",
       "</g>\n",
       "</g>\n",
       "</svg>\n"
      ],
      "text/plain": [
       "<graphviz.graphs.Digraph at 0x28335f9c940>"
      ]
     },
     "execution_count": 15,
     "metadata": {},
     "output_type": "execute_result"
    }
   ],
   "source": [
    " import graphviz\n",
    "\n",
    "def trace(root):\n",
    "    \"\"\"\n",
    "    Traverses the computational graph from the root node to collect all nodes and edges.\n",
    "    \"\"\"\n",
    "    nodes, edges = set(), set()\n",
    "    \n",
    "    def build(v):\n",
    "        # Add the node if it hasn't been processed.\n",
    "        if v not in nodes:\n",
    "            nodes.add(v)\n",
    "            for child in v._prev:\n",
    "                edges.add((child, v))\n",
    "                build(child)\n",
    "                \n",
    "    build(root)\n",
    "    return nodes, edges\n",
    "\n",
    "def draw_dot(root):\n",
    "    \"\"\"\n",
    "    Creates a GraphViz Digraph for the computational graph.\n",
    "    \"\"\"\n",
    "    nodes, edges = trace(root)\n",
    "    dot = graphviz.Digraph(format='svg')\n",
    "    dot.attr(rankdir='LR')  # Layout from bottom to top.\n",
    "    \n",
    "    for v in nodes:\n",
    "        uid = str(id(v))\n",
    "        dot.node(name=uid, label= \"{%s |data %.4f}\" %(v.label, v.data), shape=\"record\")\n",
    "        # Use the operation as the label if it exists; otherwise, show the value.\n",
    "        if v._op:\n",
    "            dot.node(name = uid + v._op, label = v._op)\n",
    "            dot.edge(uid + v._op, uid)\n",
    "            \n",
    "    for child, parent in edges:\n",
    "        dot.edge(str(id(child)), str(id(parent)) + parent._op)\n",
    "        \n",
    "    return dot\n",
    "\n",
    "# Visualize the computational graph.\n",
    "dot = draw_dot(L)\n",
    "dot  # In Jupyter, simply having the variable as the last line will render the graph.\n"
   ]
  },
  {
   "cell_type": "code",
   "execution_count": null,
   "id": "56c0e2d6",
   "metadata": {},
   "outputs": [],
   "source": []
  },
  {
   "cell_type": "code",
   "execution_count": null,
   "id": "353b60a4",
   "metadata": {},
   "outputs": [],
   "source": []
  }
 ],
 "metadata": {
  "kernelspec": {
   "display_name": "Python 3 (ipykernel)",
   "language": "python",
   "name": "python3"
  },
  "language_info": {
   "codemirror_mode": {
    "name": "ipython",
    "version": 3
   },
   "file_extension": ".py",
   "mimetype": "text/x-python",
   "name": "python",
   "nbconvert_exporter": "python",
   "pygments_lexer": "ipython3",
   "version": "3.9.13"
  }
 },
 "nbformat": 4,
 "nbformat_minor": 5
}
